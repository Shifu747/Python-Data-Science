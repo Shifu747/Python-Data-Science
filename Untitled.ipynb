{
 "cells": [
  {
   "cell_type": "code",
   "execution_count": 1,
   "id": "53c670d0",
   "metadata": {},
   "outputs": [],
   "source": []
  },
  {
   "cell_type": "code",
   "execution_count": 8,
   "id": "b7b6dde4",
   "metadata": {},
   "outputs": [
    {
     "name": "stdout",
     "output_type": "stream",
     "text": [
      "Enter anything to evaluate: 9+2\n",
      "11\n",
      "Enter anything to evaluate: 10-2\n",
      "8\n",
      "Enter anything to evaluate: 20-2\n",
      "18\n",
      "Enter anything to evaluate: done\n"
     ]
    }
   ],
   "source": [
    "import math\n",
    "def eval_loop():\n",
    "\n",
    "    while True:\n",
    "        x = input('Enter anything to evaluate: ')\n",
    "        if x == 'done':\n",
    "            break\n",
    "        else:\n",
    "            print(eval(x))\n",
    "eval_loop()"
   ]
  },
  {
   "cell_type": "code",
   "execution_count": null,
   "id": "51892ece",
   "metadata": {},
   "outputs": [],
   "source": []
  },
  {
   "cell_type": "code",
   "execution_count": null,
   "id": "74832c41",
   "metadata": {},
   "outputs": [],
   "source": []
  }
 ],
 "metadata": {
  "kernelspec": {
   "display_name": "Python 3 (ipykernel)",
   "language": "python",
   "name": "python3"
  },
  "language_info": {
   "codemirror_mode": {
    "name": "ipython",
    "version": 3
   },
   "file_extension": ".py",
   "mimetype": "text/x-python",
   "name": "python",
   "nbconvert_exporter": "python",
   "pygments_lexer": "ipython3",
   "version": "3.10.4"
  }
 },
 "nbformat": 4,
 "nbformat_minor": 5
}
